{
 "cells": [
  {
   "cell_type": "code",
   "execution_count": 2,
   "metadata": {},
   "outputs": [
    {
     "name": "stdout",
     "output_type": "stream",
     "text": [
      "96\n",
      "                  id    marketId             label americanOdds  decimalOdds  \\\n",
      "0  0HC79832500N250_3  2_79832500           NY Mets         +110         2.10   \n",
      "1  0HC79832500P250_1  2_79832500  ARI Diamondbacks         −140         1.71   \n",
      "2  0HC79832501N150_3  2_79832501      SEA Mariners         +180         2.80   \n",
      "3  0HC79832764N150_3  2_79832764        LA Dodgers         −170         1.58   \n",
      "4  0HC79832766N150_3  2_79832766       TEX Rangers         +136         2.36   \n",
      "\n",
      "  fractionalOdds  trueOdds outcomeType  sortOrder               tags  main  \\\n",
      "0          11/10  2.100000        Away      -2501  MainPointLine;SGP  True   \n",
      "1            5/7  1.714286        Home      -2499  MainPointLine;SGP  True   \n",
      "2            9/5  2.800000        Away      -1501  MainPointLine;SGP  True   \n",
      "3          10/17  1.588235        Away      -1501  MainPointLine;SGP  True   \n",
      "4          34/25  2.360000        Away      -1501  MainPointLine;SGP  True   \n",
      "\n",
      "               collected_at  \n",
      "0  2025-05-06T03:39:57.288Z  \n",
      "1  2025-05-06T03:39:57.289Z  \n",
      "2  2025-05-06T03:39:57.289Z  \n",
      "3  2025-05-06T03:39:57.289Z  \n",
      "4  2025-05-06T03:39:57.289Z  \n"
     ]
    }
   ],
   "source": [
    "import pandas as pd \n",
    "\n",
    "df = pd.read_csv('data/csv/dk.csv')\n",
    "\n",
    "print(len(df))\n",
    "print(df.head())"
   ]
  }
 ],
 "metadata": {
  "interpreter": {
   "hash": "aee8b7b246df8f9039afb4144a1f6fd8d2ca17a180786b69acc140d282b71a49"
  },
  "kernelspec": {
   "display_name": "Python 3.8.0 64-bit",
   "language": "python",
   "name": "python3"
  },
  "language_info": {
   "codemirror_mode": {
    "name": "ipython",
    "version": 3
   },
   "file_extension": ".py",
   "mimetype": "text/x-python",
   "name": "python",
   "nbconvert_exporter": "python",
   "pygments_lexer": "ipython3",
   "version": "3.8.0"
  },
  "orig_nbformat": 4
 },
 "nbformat": 4,
 "nbformat_minor": 2
}
